{
 "cells": [
  {
   "cell_type": "code",
   "execution_count": null,
   "id": "dfda3d1c-07ea-4386-ab00-f1921e0ab1bc",
   "metadata": {},
   "outputs": [],
   "source": [
    "This is in the main branch\n",
    "\n",
    "Example for git.\n"
   ]
  }
 ],
 "metadata": {
  "kernelspec": {
   "display_name": "Python 3 (ipykernel)",
   "language": "python",
   "name": "python3"
  },
  "language_info": {
   "codemirror_mode": {
    "name": "ipython",
    "version": 3
   },
   "file_extension": ".py",
   "mimetype": "text/x-python",
   "name": "python",
   "nbconvert_exporter": "python",
   "pygments_lexer": "ipython3",
   "version": "3.11.5"
  }
 },
 "nbformat": 4,
 "nbformat_minor": 5
}
